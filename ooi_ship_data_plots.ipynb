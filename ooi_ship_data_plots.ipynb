{
 "cells": [
  {
   "cell_type": "markdown",
   "metadata": {
    "id": "TpoX_-zdYDpB"
   },
   "source": [
    "## OOI ship data plots\n",
    "\n",
    "Load and make basic plots of discrete water samples collected on OOI cruise. \n",
    "\n",
    "Requires `openpyxl` package for opening Excel files with Pandas."
   ]
  },
  {
   "cell_type": "code",
   "execution_count": 12,
   "metadata": {
    "id": "K7G_Iuq8Nfr5"
   },
   "outputs": [],
   "source": [
    "import pandas as pd\n",
    "from matplotlib import pyplot as plt\n",
    "from scipy import stats"
   ]
  },
  {
   "cell_type": "markdown",
   "metadata": {
    "id": "cXXKcBVaYoRx"
   },
   "source": [
    "The data files are in a repository at https://github.com/tompc35/ooi-ship-data\n",
    "\n",
    "The original data files were obtained from https://alfresco.oceanobservatories.org"
   ]
  },
  {
   "cell_type": "markdown",
   "metadata": {
    "id": "OaaXcXrHZCzA"
   },
   "source": [
    "`%ls` is a magic command that lists the files in the current directory (in this case on a Google server somewhere on the cloud)."
   ]
  },
  {
   "cell_type": "code",
   "execution_count": 13,
   "metadata": {
    "colab": {
     "base_uri": "https://localhost:8080/",
     "height": 139
    },
    "executionInfo": {
     "elapsed": 4909,
     "status": "ok",
     "timestamp": 1595013242283,
     "user": {
      "displayName": "Tom Connolly",
      "photoUrl": "",
      "userId": "09993208421173643403"
     },
     "user_tz": 420
    },
    "id": "K9C4Thr4Ntte",
    "outputId": "7d3f4994-696d-4d2c-edf5-6eae74668fbe"
   },
   "outputs": [
    {
     "name": "stdout",
     "output_type": "stream",
     "text": [
      "Endurance-07_SKQ201704S_Discrete_Summary_2017-04-09_ver_1_00.xlsx\n",
      "Endurance-07_SKQ201704S_Discrete_Summary_README.txt\n",
      "Endurance-08_SKQ201715S_Discrete_Summary_2017-10-02_ver_1_01.xlsx\n",
      "Endurance-08_SKQ201715S_Discrete_Summary_README.txt\n",
      "Endurance-09_SKQ201808S_Discrete_Summary_2018-03-25_ver_1_01-1.xlsx\n",
      "Endurance-09_SKQ201808S_Discrete_Summary_README-1.txt\n",
      "readme.txt\n"
     ]
    }
   ],
   "source": [
    "%ls data/"
   ]
  },
  {
   "cell_type": "markdown",
   "metadata": {
    "id": "hUeufGUdZl0H"
   },
   "source": [
    "Load the data from October 2017 into a Pandas dataframe. Treat column 5 (`Start Time [UTC]`) as dates."
   ]
  },
  {
   "cell_type": "code",
   "execution_count": 14,
   "metadata": {
    "id": "0MxadIKcNxSd"
   },
   "outputs": [],
   "source": [
    "xls_file = 'data/Endurance-08_SKQ201715S_Discrete_Summary_2017-10-02_ver_1_01.xlsx'\n",
    "df = pd.read_excel(xls_file,parse_dates=[5])"
   ]
  },
  {
   "cell_type": "code",
   "execution_count": 15,
   "metadata": {
    "colab": {
     "base_uri": "https://localhost:8080/",
     "height": 469
    },
    "executionInfo": {
     "elapsed": 3109,
     "status": "ok",
     "timestamp": 1595013242619,
     "user": {
      "displayName": "Tom Connolly",
      "photoUrl": "",
      "userId": "09993208421173643403"
     },
     "user_tz": 420
    },
    "id": "DeYQ_rRxOVr2",
    "outputId": "19fad91f-825a-4498-a102-7f1fdbce0aec"
   },
   "outputs": [
    {
     "data": {
      "text/html": [
       "<div>\n",
       "<style scoped>\n",
       "    .dataframe tbody tr th:only-of-type {\n",
       "        vertical-align: middle;\n",
       "    }\n",
       "\n",
       "    .dataframe tbody tr th {\n",
       "        vertical-align: top;\n",
       "    }\n",
       "\n",
       "    .dataframe thead th {\n",
       "        text-align: right;\n",
       "    }\n",
       "</style>\n",
       "<table border=\"1\" class=\"dataframe\">\n",
       "  <thead>\n",
       "    <tr style=\"text-align: right;\">\n",
       "      <th></th>\n",
       "      <th>Cruise</th>\n",
       "      <th>Station</th>\n",
       "      <th>Target Asset</th>\n",
       "      <th>Start Latitude [degrees]</th>\n",
       "      <th>Start Longitude [degrees]</th>\n",
       "      <th>Start Time [UTC]</th>\n",
       "      <th>Cast</th>\n",
       "      <th>Cast Flag</th>\n",
       "      <th>Bottom Depth at Start Position [m]</th>\n",
       "      <th>CTD File</th>\n",
       "      <th>...</th>\n",
       "      <th>Calculated CO3 [µmol/kg]</th>\n",
       "      <th>Calculated Omega-C</th>\n",
       "      <th>Calculated Omega-A</th>\n",
       "      <th>Unnamed: 78</th>\n",
       "      <th>Unnamed: 79</th>\n",
       "      <th>Unnamed: 80</th>\n",
       "      <th>Unnamed: 81</th>\n",
       "      <th>Unnamed: 82</th>\n",
       "      <th>Unnamed: 83</th>\n",
       "      <th>Unnamed: 84</th>\n",
       "    </tr>\n",
       "  </thead>\n",
       "  <tbody>\n",
       "    <tr>\n",
       "      <th>0</th>\n",
       "      <td>SKQ201715S</td>\n",
       "      <td>CE07</td>\n",
       "      <td>CE07SHSM-00007 and CE07SHSM-00006</td>\n",
       "      <td>46.98583</td>\n",
       "      <td>-124.566</td>\n",
       "      <td>2017-10-03 16:43:34</td>\n",
       "      <td>1.0</td>\n",
       "      <td>100.0</td>\n",
       "      <td>89.0</td>\n",
       "      <td>SKQ201715S_ctd001</td>\n",
       "      <td>...</td>\n",
       "      <td>34.9</td>\n",
       "      <td>0.821</td>\n",
       "      <td>0.532</td>\n",
       "      <td>NaN</td>\n",
       "      <td>NaN</td>\n",
       "      <td>NaN</td>\n",
       "      <td>NaN</td>\n",
       "      <td>NaN</td>\n",
       "      <td>NaN</td>\n",
       "      <td>NaN</td>\n",
       "    </tr>\n",
       "    <tr>\n",
       "      <th>1</th>\n",
       "      <td>SKQ201715S</td>\n",
       "      <td>CE07</td>\n",
       "      <td>CE07SHSM-00007 and CE07SHSM-00006</td>\n",
       "      <td>46.98583</td>\n",
       "      <td>-124.566</td>\n",
       "      <td>2017-10-03 16:43:34</td>\n",
       "      <td>1.0</td>\n",
       "      <td>100.0</td>\n",
       "      <td>89.0</td>\n",
       "      <td>SKQ201715S_ctd001</td>\n",
       "      <td>...</td>\n",
       "      <td>-9999999.0</td>\n",
       "      <td>-9999999.000</td>\n",
       "      <td>-9999999.000</td>\n",
       "      <td>NaN</td>\n",
       "      <td>NaN</td>\n",
       "      <td>NaN</td>\n",
       "      <td>NaN</td>\n",
       "      <td>NaN</td>\n",
       "      <td>NaN</td>\n",
       "      <td>NaN</td>\n",
       "    </tr>\n",
       "    <tr>\n",
       "      <th>2</th>\n",
       "      <td>SKQ201715S</td>\n",
       "      <td>CE07</td>\n",
       "      <td>CE07SHSM-00007 and CE07SHSM-00006</td>\n",
       "      <td>46.98583</td>\n",
       "      <td>-124.566</td>\n",
       "      <td>2017-10-03 16:43:34</td>\n",
       "      <td>1.0</td>\n",
       "      <td>100.0</td>\n",
       "      <td>89.0</td>\n",
       "      <td>SKQ201715S_ctd001</td>\n",
       "      <td>...</td>\n",
       "      <td>-9999999.0</td>\n",
       "      <td>-9999999.000</td>\n",
       "      <td>-9999999.000</td>\n",
       "      <td>NaN</td>\n",
       "      <td>NaN</td>\n",
       "      <td>NaN</td>\n",
       "      <td>NaN</td>\n",
       "      <td>NaN</td>\n",
       "      <td>NaN</td>\n",
       "      <td>NaN</td>\n",
       "    </tr>\n",
       "    <tr>\n",
       "      <th>3</th>\n",
       "      <td>SKQ201715S</td>\n",
       "      <td>CE07</td>\n",
       "      <td>CE07SHSM-00007 and CE07SHSM-00006</td>\n",
       "      <td>46.98583</td>\n",
       "      <td>-124.566</td>\n",
       "      <td>2017-10-03 16:43:34</td>\n",
       "      <td>1.0</td>\n",
       "      <td>100.0</td>\n",
       "      <td>89.0</td>\n",
       "      <td>SKQ201715S_ctd001</td>\n",
       "      <td>...</td>\n",
       "      <td>144.1</td>\n",
       "      <td>3.051</td>\n",
       "      <td>2.014</td>\n",
       "      <td>NaN</td>\n",
       "      <td>NaN</td>\n",
       "      <td>NaN</td>\n",
       "      <td>NaN</td>\n",
       "      <td>NaN</td>\n",
       "      <td>NaN</td>\n",
       "      <td>NaN</td>\n",
       "    </tr>\n",
       "    <tr>\n",
       "      <th>4</th>\n",
       "      <td>SKQ201715S</td>\n",
       "      <td>CE07</td>\n",
       "      <td>CE07SHSM-00007 and CE07SHSM-00006</td>\n",
       "      <td>46.98583</td>\n",
       "      <td>-124.566</td>\n",
       "      <td>2017-10-03 16:43:34</td>\n",
       "      <td>1.0</td>\n",
       "      <td>100.0</td>\n",
       "      <td>89.0</td>\n",
       "      <td>SKQ201715S_ctd001</td>\n",
       "      <td>...</td>\n",
       "      <td>-9999999.0</td>\n",
       "      <td>-9999999.000</td>\n",
       "      <td>-9999999.000</td>\n",
       "      <td>NaN</td>\n",
       "      <td>NaN</td>\n",
       "      <td>NaN</td>\n",
       "      <td>NaN</td>\n",
       "      <td>NaN</td>\n",
       "      <td>NaN</td>\n",
       "      <td>NaN</td>\n",
       "    </tr>\n",
       "  </tbody>\n",
       "</table>\n",
       "<p>5 rows × 85 columns</p>\n",
       "</div>"
      ],
      "text/plain": [
       "       Cruise Station                       Target Asset  \\\n",
       "0  SKQ201715S    CE07  CE07SHSM-00007 and CE07SHSM-00006   \n",
       "1  SKQ201715S    CE07  CE07SHSM-00007 and CE07SHSM-00006   \n",
       "2  SKQ201715S    CE07  CE07SHSM-00007 and CE07SHSM-00006   \n",
       "3  SKQ201715S    CE07  CE07SHSM-00007 and CE07SHSM-00006   \n",
       "4  SKQ201715S    CE07  CE07SHSM-00007 and CE07SHSM-00006   \n",
       "\n",
       "   Start Latitude [degrees]  Start Longitude [degrees]    Start Time [UTC]  \\\n",
       "0                  46.98583                   -124.566 2017-10-03 16:43:34   \n",
       "1                  46.98583                   -124.566 2017-10-03 16:43:34   \n",
       "2                  46.98583                   -124.566 2017-10-03 16:43:34   \n",
       "3                  46.98583                   -124.566 2017-10-03 16:43:34   \n",
       "4                  46.98583                   -124.566 2017-10-03 16:43:34   \n",
       "\n",
       "   Cast  Cast Flag  Bottom Depth at Start Position [m]           CTD File  \\\n",
       "0   1.0      100.0                                89.0  SKQ201715S_ctd001   \n",
       "1   1.0      100.0                                89.0  SKQ201715S_ctd001   \n",
       "2   1.0      100.0                                89.0  SKQ201715S_ctd001   \n",
       "3   1.0      100.0                                89.0  SKQ201715S_ctd001   \n",
       "4   1.0      100.0                                89.0  SKQ201715S_ctd001   \n",
       "\n",
       "   ...  Calculated CO3 [µmol/kg]  Calculated Omega-C  Calculated Omega-A  \\\n",
       "0  ...                      34.9               0.821               0.532   \n",
       "1  ...                -9999999.0        -9999999.000        -9999999.000   \n",
       "2  ...                -9999999.0        -9999999.000        -9999999.000   \n",
       "3  ...                     144.1               3.051               2.014   \n",
       "4  ...                -9999999.0        -9999999.000        -9999999.000   \n",
       "\n",
       "  Unnamed: 78  Unnamed: 79  Unnamed: 80  Unnamed: 81  Unnamed: 82  \\\n",
       "0         NaN          NaN          NaN          NaN          NaN   \n",
       "1         NaN          NaN          NaN          NaN          NaN   \n",
       "2         NaN          NaN          NaN          NaN          NaN   \n",
       "3         NaN          NaN          NaN          NaN          NaN   \n",
       "4         NaN          NaN          NaN          NaN          NaN   \n",
       "\n",
       "   Unnamed: 83  Unnamed: 84  \n",
       "0          NaN          NaN  \n",
       "1          NaN          NaN  \n",
       "2          NaN          NaN  \n",
       "3          NaN          NaN  \n",
       "4          NaN          NaN  \n",
       "\n",
       "[5 rows x 85 columns]"
      ]
     },
     "execution_count": 15,
     "metadata": {},
     "output_type": "execute_result"
    }
   ],
   "source": [
    "df.head()"
   ]
  },
  {
   "cell_type": "markdown",
   "metadata": {
    "id": "bGT7OSz8Z3Ed"
   },
   "source": [
    "List all of the variables in the data frame"
   ]
  },
  {
   "cell_type": "code",
   "execution_count": 16,
   "metadata": {
    "colab": {
     "base_uri": "https://localhost:8080/",
     "height": 225
    },
    "executionInfo": {
     "elapsed": 1210,
     "status": "ok",
     "timestamp": 1595013337662,
     "user": {
      "displayName": "Tom Connolly",
      "photoUrl": "",
      "userId": "09993208421173643403"
     },
     "user_tz": 420
    },
    "id": "fpiImyMAMrNq",
    "outputId": "10ae3483-7b50-4ccd-f5d6-38ef575edd08"
   },
   "outputs": [
    {
     "data": {
      "text/plain": [
       "Cruise                                              SKQ201715S\n",
       "Station                                                   CE07\n",
       "Target Asset                 CE07SHSM-00007 and CE07SHSM-00006\n",
       "Start Latitude [degrees]                              46.98583\n",
       "Start Longitude [degrees]                           -124.56600\n",
       "                                           ...                \n",
       "Unnamed: 80                                                NaN\n",
       "Unnamed: 81                                                NaN\n",
       "Unnamed: 82                                                NaN\n",
       "Unnamed: 83                                                NaN\n",
       "Unnamed: 84                                                NaN\n",
       "Name: 0, Length: 85, dtype: object"
      ]
     },
     "execution_count": 16,
     "metadata": {},
     "output_type": "execute_result"
    }
   ],
   "source": [
    "df.iloc[0]"
   ]
  },
  {
   "cell_type": "code",
   "execution_count": 17,
   "metadata": {
    "colab": {
     "base_uri": "https://localhost:8080/",
     "height": 624
    },
    "executionInfo": {
     "elapsed": 5434,
     "status": "ok",
     "timestamp": 1595004794124,
     "user": {
      "displayName": "Andrea Selkow",
      "photoUrl": "https://lh3.googleusercontent.com/a-/AOh14Gh59e2Wr53GUQl5PTKflMwGMsEFs31omiYQg47A=s64",
      "userId": "16381056675737337049"
     },
     "user_tz": 300
    },
    "id": "8DPdZV9jOWWc",
    "outputId": "f7f6f49a-4e7e-4073-8f4b-8c3d9893f394"
   },
   "outputs": [
    {
     "data": {
      "text/plain": [
       "Index(['Cruise', 'Station', 'Target Asset', 'Start Latitude [degrees]',\n",
       "       'Start Longitude [degrees]', 'Start Time [UTC]', 'Cast', 'Cast Flag',\n",
       "       'Bottom Depth at Start Position [m]', 'CTD File', 'CTD File Flag',\n",
       "       'Niskin/Bottle Position', 'Niskin Flag',\n",
       "       'CTD Bottle Closure Time [UTC]', 'CTD Pressure [db]',\n",
       "       'CTD Pressure Flag', 'CTD Depth [m]', 'CTD Latitude [deg]',\n",
       "       'CTD Longitude [deg]', 'CTD Temperature 1 [deg C]',\n",
       "       'CTD Temperature 1 Flag', 'CTD Temperature 2 [deg C]',\n",
       "       'CTD Temperature 2 Flag', 'CTD Conductivity 1 [S/m]',\n",
       "       'CTD Conductivity 1 Flag', 'CTD Conductivity 2 [S/m]',\n",
       "       'CTD Conductivity 2 Flag', 'CTD Salinity 1, uncorrected [psu]',\n",
       "       'CTD Salinity 2, uncorrected [psu]', 'CTD Oxygen, uncorrected [mL/L]',\n",
       "       'CTD Oxygen Flag', 'CTD Oxygen Saturation [mL/L]',\n",
       "       'CTD Fluorescence [mg/m^3]', 'CTD Fluorescence Flag',\n",
       "       'CTD Beam Attenuation [1/m]', 'CTD Beam Transmission [%]',\n",
       "       'CTD Transmissometer Flag', 'CTD pH', 'CTD pH Flag',\n",
       "       'Discrete Oxygen [mL/L]', 'Discrete Oxygen Flag',\n",
       "       'Discrete Oxygen Duplicate Flag', 'Discrete Chlorophyll [ug/L]',\n",
       "       'Discrete Phaeopigment [ug/L]', 'Discrete Fo/Fa Ratio',\n",
       "       'Discrete Fluorescence Flag', 'Discrete Fluorescence Duplicate Flag',\n",
       "       'Discrete Phosphate [uM]', 'Discrete Silicate [uM]',\n",
       "       'Discrete Nitrate [uM]', 'Discrete Nitrite [uM]',\n",
       "       'Discrete Ammonium [uM]', 'Discrete Nutrients Flag',\n",
       "       'Discrete Nutrients Duplicate Flag', 'Discrete Salinity [psu]',\n",
       "       'Discrete Salinity Flag', 'Discrete Salinity Duplicate Flag',\n",
       "       'Discrete Alkalinity [µmol/kg]', 'Discrete Alkalinity Flag',\n",
       "       'Discrete DIC [µmol/kg]', 'Discrete DIC Flag', 'Discrete pCO2 [µatm]',\n",
       "       'Discrete pCO2 Flag', 'pCO2 Analysis Temp [C]',\n",
       "       'Discrete Carbon Duplicate Flag', 'Discrete pH [Total scale]',\n",
       "       'pHAnalysis Temp [C]', 'Discrete pH Flag', 'Discrete pH Duplicate Flag',\n",
       "       'Calculated Alkalinity [µmol/kg]', 'Calculated DIC [µmol/kg]',\n",
       "       'Calculated pCO2 [µatm]', 'Calculated pH', 'Calculated CO2aq [µmol/kg]',\n",
       "       'Calculated bicarb [µmol/kg]', 'Calculated CO3 [µmol/kg]',\n",
       "       'Calculated Omega-C', 'Calculated Omega-A', 'Unnamed: 78',\n",
       "       'Unnamed: 79', 'Unnamed: 80', 'Unnamed: 81', 'Unnamed: 82',\n",
       "       'Unnamed: 83', 'Unnamed: 84'],\n",
       "      dtype='object')"
      ]
     },
     "execution_count": 17,
     "metadata": {},
     "output_type": "execute_result"
    }
   ],
   "source": [
    "df.keys()"
   ]
  },
  {
   "cell_type": "markdown",
   "metadata": {
    "id": "Kzu5-ozoZ8kV"
   },
   "source": [
    "Plot time vs. latitude to show where the ship went on the cruise. It started off Grays Harbor, WA and then went down to the Oregon coast off Newport."
   ]
  },
  {
   "cell_type": "code",
   "execution_count": 18,
   "metadata": {
    "colab": {
     "base_uri": "https://localhost:8080/",
     "height": 283
    },
    "executionInfo": {
     "elapsed": 5554,
     "status": "ok",
     "timestamp": 1595004794261,
     "user": {
      "displayName": "Andrea Selkow",
      "photoUrl": "https://lh3.googleusercontent.com/a-/AOh14Gh59e2Wr53GUQl5PTKflMwGMsEFs31omiYQg47A=s64",
      "userId": "16381056675737337049"
     },
     "user_tz": 300
    },
    "id": "eB0vdYjuXuBP",
    "outputId": "7fcd4809-6cf1-438c-c429-2ee627b33447"
   },
   "outputs": [
    {
     "data": {
      "text/plain": [
       "[<matplotlib.lines.Line2D at 0x7fa36d344a90>]"
      ]
     },
     "execution_count": 18,
     "metadata": {},
     "output_type": "execute_result"
    },
    {
     "data": {
      "image/png": "[encoded data removed]",
      "text/plain": [
       "<Figure size 720x288 with 1 Axes>"
      ]
     },
     "metadata": {
      "needs_background": "light"
     },
     "output_type": "display_data"
    }
   ],
   "source": [
    "plt.figure(figsize=[10,4])\n",
    "plt.plot(df['Start Time [UTC]'],df['Start Latitude [degrees]'],'.')"
   ]
  },
  {
   "cell_type": "markdown",
   "metadata": {
    "id": "VEq6RJIbaLu4"
   },
   "source": [
    "Plot oxygen vs. pressure (depth)."
   ]
  },
  {
   "cell_type": "code",
   "execution_count": 19,
   "metadata": {
    "colab": {
     "base_uri": "https://localhost:8080/",
     "height": 278
    },
    "executionInfo": {
     "elapsed": 5682,
     "status": "ok",
     "timestamp": 1595004794404,
     "user": {
      "displayName": "Andrea Selkow",
      "photoUrl": "https://lh3.googleusercontent.com/a-/AOh14Gh59e2Wr53GUQl5PTKflMwGMsEFs31omiYQg47A=s64",
      "userId": "16381056675737337049"
     },
     "user_tz": 300
    },
    "id": "SXTL0dsGOdCd",
    "outputId": "68a5901d-64cd-4204-cbb0-7cbb21aa8f2e"
   },
   "outputs": [
    {
     "data": {
      "image/png": "[encoded data removed]",
      "text/plain": [
       "<Figure size 432x288 with 1 Axes>"
      ]
     },
     "metadata": {
      "needs_background": "light"
     },
     "output_type": "display_data"
    }
   ],
   "source": [
    "plt.figure()\n",
    "plt.plot(df['Discrete Oxygen [mL/L]'],df['CTD Pressure [db]'],'.')\n",
    "plt.gca().invert_yaxis()"
   ]
  },
  {
   "cell_type": "markdown",
   "metadata": {
    "id": "jZYI3AgzaSfD"
   },
   "source": [
    "There are a lot of -9999999 values, which indicate bad data. We can take a subset of the good values."
   ]
  },
  {
   "cell_type": "code",
   "execution_count": 20,
   "metadata": {
    "id": "WpI1F5A_PU30"
   },
   "outputs": [],
   "source": [
    "goodi = df['Discrete Oxygen Flag'] == 100"
   ]
  },
  {
   "cell_type": "code",
   "execution_count": 21,
   "metadata": {
    "colab": {
     "base_uri": "https://localhost:8080/",
     "height": 279
    },
    "executionInfo": {
     "elapsed": 5999,
     "status": "ok",
     "timestamp": 1595004794738,
     "user": {
      "displayName": "Andrea Selkow",
      "photoUrl": "https://lh3.googleusercontent.com/a-/AOh14Gh59e2Wr53GUQl5PTKflMwGMsEFs31omiYQg47A=s64",
      "userId": "16381056675737337049"
     },
     "user_tz": 300
    },
    "id": "B72Fx_mVPtoP",
    "outputId": "229735c0-39ae-4dc9-95bb-880dd9ec4def"
   },
   "outputs": [
    {
     "data": {
      "image/png": "[encoded data removed]",
      "text/plain": [
       "<Figure size 432x288 with 1 Axes>"
      ]
     },
     "metadata": {
      "needs_background": "light"
     },
     "output_type": "display_data"
    }
   ],
   "source": [
    "plt.figure()\n",
    "plt.plot(df['Discrete Oxygen [mL/L]'][goodi],df['CTD Pressure [db]'][goodi],'.')\n",
    "plt.xlabel('Discrete Oxygen [mL/L]')\n",
    "plt.ylabel('Pressure [dbar]')\n",
    "plt.gca().invert_yaxis()"
   ]
  },
  {
   "cell_type": "markdown",
   "metadata": {
    "id": "P-D4du6Ic0Iy"
   },
   "source": [
    "Compare the bottle oxygen vs. CTD oxygen values from the ship rosette."
   ]
  },
  {
   "cell_type": "code",
   "execution_count": 22,
   "metadata": {
    "colab": {
     "base_uri": "https://localhost:8080/",
     "height": 297
    },
    "executionInfo": {
     "elapsed": 6399,
     "status": "ok",
     "timestamp": 1595004795150,
     "user": {
      "displayName": "Andrea Selkow",
      "photoUrl": "https://lh3.googleusercontent.com/a-/AOh14Gh59e2Wr53GUQl5PTKflMwGMsEFs31omiYQg47A=s64",
      "userId": "16381056675737337049"
     },
     "user_tz": 300
    },
    "id": "rVsBnXNMXlCi",
    "outputId": "5d6c4c9c-5dcf-42bb-eb7e-1921bb6afab3"
   },
   "outputs": [
    {
     "data": {
      "text/plain": [
       "Text(0, 0.5, 'CTD Oxygen, uncorrected [mL/L]')"
      ]
     },
     "execution_count": 22,
     "metadata": {},
     "output_type": "execute_result"
    },
    {
     "data": {
      "image/png": "[encoded data removed]",
      "text/plain": [
       "<Figure size 432x288 with 1 Axes>"
      ]
     },
     "metadata": {
      "needs_background": "light"
     },
     "output_type": "display_data"
    }
   ],
   "source": [
    "plt.figure()\n",
    "plt.plot(df['Discrete Oxygen [mL/L]'][goodi],df['CTD Oxygen, uncorrected [mL/L]'][goodi],'.')\n",
    "plt.xlabel('Discrete Oxygen [mL/L]')\n",
    "plt.ylabel('CTD Oxygen, uncorrected [mL/L]')"
   ]
  },
  {
   "cell_type": "code",
   "execution_count": 23,
   "metadata": {
    "id": "uva4h_Iqa9XK"
   },
   "outputs": [],
   "source": [
    "result = stats.linregress(df['Discrete Oxygen [mL/L]'][goodi],df['CTD Oxygen, uncorrected [mL/L]'][goodi])"
   ]
  },
  {
   "cell_type": "code",
   "execution_count": 24,
   "metadata": {
    "colab": {
     "base_uri": "https://localhost:8080/",
     "height": 52
    },
    "executionInfo": {
     "elapsed": 6393,
     "status": "ok",
     "timestamp": 1595004795154,
     "user": {
      "displayName": "Andrea Selkow",
      "photoUrl": "https://lh3.googleusercontent.com/a-/AOh14Gh59e2Wr53GUQl5PTKflMwGMsEFs31omiYQg47A=s64",
      "userId": "16381056675737337049"
     },
     "user_tz": 300
    },
    "id": "tpvLuZq9cB2a",
    "outputId": "2c32eff3-f6df-4f47-d451-70a3b4f89284"
   },
   "outputs": [
    {
     "name": "stdout",
     "output_type": "stream",
     "text": [
      "slope 0.9775428688100574\n",
      "intercept -0.10838752493990178\n"
     ]
    }
   ],
   "source": [
    "print('slope',result.slope)\n",
    "print('intercept',result.intercept)"
   ]
  },
  {
   "cell_type": "code",
   "execution_count": 25,
   "metadata": {
    "colab": {
     "base_uri": "https://localhost:8080/",
     "height": 280
    },
    "executionInfo": {
     "elapsed": 6554,
     "status": "ok",
     "timestamp": 1595004795327,
     "user": {
      "displayName": "Andrea Selkow",
      "photoUrl": "https://lh3.googleusercontent.com/a-/AOh14Gh59e2Wr53GUQl5PTKflMwGMsEFs31omiYQg47A=s64",
      "userId": "16381056675737337049"
     },
     "user_tz": 300
    },
    "id": "EtyH64IIcI_h",
    "outputId": "71e5a0c2-f429-4e1c-ad8d-43d35fcbe5ea"
   },
   "outputs": [
    {
     "data": {
      "image/png": "[encoded data removed]",
      "text/plain": [
       "<Figure size 432x288 with 1 Axes>"
      ]
     },
     "metadata": {
      "needs_background": "light"
     },
     "output_type": "display_data"
    }
   ],
   "source": [
    "x = df['Discrete Oxygen [mL/L]'][goodi]\n",
    "y = result.slope*x + result.intercept\n",
    "\n",
    "plt.figure()\n",
    "plt.plot(df['Discrete Oxygen [mL/L]'][goodi],df['CTD Oxygen, uncorrected [mL/L]'][goodi],'.')\n",
    "plt.plot(x,y,'r-')\n",
    "plt.xlabel('Discrete Oxygen [mL/L]')\n",
    "plt.ylabel('CTD Oxygen, uncorrected [mL/L]');"
   ]
  },
  {
   "cell_type": "code",
   "execution_count": null,
   "metadata": {
    "id": "7RniQTU7cvBI"
   },
   "outputs": [],
   "source": []
  },
  {
   "cell_type": "code",
   "execution_count": null,
   "metadata": {},
   "outputs": [],
   "source": []
  }
 ],
 "metadata": {
  "colab": {
   "collapsed_sections": [],
   "name": "ooi_ship_data_plots.ipynb",
   "provenance": []
  },
  "kernelspec": {
   "display_name": "Python 3",
   "language": "python",
   "name": "python3"
  },
  "language_info": {
   "codemirror_mode": {
    "name": "ipython",
    "version": 3
   },
   "file_extension": ".py",
   "mimetype": "text/x-python",
   "name": "python",
   "nbconvert_exporter": "python",
   "pygments_lexer": "ipython3",
   "version": "3.8.6"
  }
 },
 "nbformat": 4,
 "nbformat_minor": 4
}
